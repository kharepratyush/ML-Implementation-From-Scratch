{
 "cells": [
  {
   "cell_type": "markdown",
   "metadata": {},
   "source": [
    "## Decision Tree Classifier"
   ]
  },
  {
   "cell_type": "code",
   "execution_count": 17,
   "metadata": {
    "ExecuteTime": {
     "end_time": "2020-02-25T08:48:17.399163Z",
     "start_time": "2020-02-25T08:48:17.394149Z"
    }
   },
   "outputs": [],
   "source": [
    "from sklearn.datasets import load_breast_cancer, load_wine\n",
    "import numpy as np\n",
    "from sklearn.preprocessing import StandardScaler\n",
    "from sklearn.metrics import accuracy_score\n",
    "from sklearn.metrics import confusion_matrix\n",
    "import statistics\n",
    "from scipy import stats\n",
    "import pandas as pd "
   ]
  },
  {
   "cell_type": "markdown",
   "metadata": {
    "ExecuteTime": {
     "end_time": "2020-02-24T16:17:37.223690Z",
     "start_time": "2020-02-24T16:17:37.220683Z"
    }
   },
   "source": [
    "## Datasets"
   ]
  },
  {
   "cell_type": "code",
   "execution_count": 18,
   "metadata": {
    "ExecuteTime": {
     "end_time": "2020-02-25T08:48:17.845349Z",
     "start_time": "2020-02-25T08:48:17.779173Z"
    }
   },
   "outputs": [],
   "source": [
    "df_breast_cancer = pd.DataFrame(load_breast_cancer()['data'], columns= load_breast_cancer()['feature_names'])\n",
    "df_breast_cancer['target'] = load_breast_cancer()['target']"
   ]
  },
  {
   "cell_type": "code",
   "execution_count": 19,
   "metadata": {
    "ExecuteTime": {
     "end_time": "2020-02-25T08:48:18.037865Z",
     "start_time": "2020-02-25T08:48:18.015936Z"
    }
   },
   "outputs": [],
   "source": [
    "df_wine = pd.DataFrame(load_wine()['data'], columns= load_wine()['feature_names'])\n",
    "df_wine['target'] = load_wine()['target']\n",
    "\n",
    "df_wine = df_wine[df_wine['target'] != 2]"
   ]
  },
  {
   "cell_type": "markdown",
   "metadata": {},
   "source": [
    "## Definition"
   ]
  },
  {
   "cell_type": "code",
   "execution_count": 150,
   "metadata": {
    "ExecuteTime": {
     "end_time": "2020-02-25T09:27:07.233880Z",
     "start_time": "2020-02-25T09:27:07.219955Z"
    }
   },
   "outputs": [],
   "source": [
    "class Node:\n",
    "\n",
    "    def __init__(self, data, features, target):\n",
    "\n",
    "        self.data = data\n",
    "        self.is_leaf = False\n",
    "        self.features = features\n",
    "        self.target = target\n",
    "        self.split_feat = None\n",
    "        self.split_value = None\n",
    "        \n",
    "    def gini_calc(self, data, target):\n",
    "        \n",
    "        gini = 0\n",
    "        for i in data[target].unique():  \n",
    "            positive_data = data[data[target] == i]['target']             \n",
    "            \n",
    "            p = sum(positive_data) / len(data)\n",
    "            q = 1-p\n",
    "            gini += (p*q)\n",
    "            \n",
    "        return gini\n",
    "    \n",
    "    def entropy_calc(self, data, target):\n",
    "        \n",
    "        entropy = 0\n",
    "        \n",
    "        if len(data) == 0:\n",
    "            return 0\n",
    "        \n",
    "        for i in data[target].unique():  \n",
    "            positive_data = data[data[target] == i]['target']             \n",
    "            p = sum(positive_data) / len(data)\n",
    "            entropy += (-p * np.log2(p))\n",
    "        return entropy\n",
    "    \n",
    "    def find_best_split(self, depth, max_depth):\n",
    "        data = self.data\n",
    "        target = self.target\n",
    "        features = self.features\n",
    "        \n",
    "        max_gini_gain = 0\n",
    "        \n",
    "        if depth > max_depth:\n",
    "            if self.split_feat is None:\n",
    "                self.is_leaf = True\n",
    "            return\n",
    "            \n",
    "        for feat in features:\n",
    "            f = sorted(data[feat])\n",
    "            split_point = statistics.mean(f)\n",
    "            \n",
    "            root_gini = self.gini_calc(data, target)\n",
    "            \n",
    "            left_data = data[data[feat] <= split_point]\n",
    "            right_data = data[data[feat] >= split_point]\n",
    "            \n",
    "            left_gini = self.gini_calc(left_data, target)\n",
    "            right_gini = self.gini_calc(right_data, target)\n",
    "            \n",
    "            split_gini = len(left_data)/len(data)*left_gini + len(right_data)/len(data)*right_gini\n",
    "                \n",
    "            if max_gini_gain < (root_gini - split_gini):\n",
    "                \n",
    "                max_gini_gain = (root_gini - split_gini)\n",
    "                self.split_feat = feat\n",
    "                \n",
    "                self.left = Node(left_data, self.features, self.target)\n",
    "                self.right = Node(right_data, self.features, self.target)\n",
    "                \n",
    "                self.split_value = data[feat].mean()\n",
    "                #print(self.left is None)\n",
    "                #print(self.right is None)\n",
    "            \n",
    "        if self.split_feat is None:\n",
    "            self.is_leaf = True\n",
    "\n",
    "        return"
   ]
  },
  {
   "cell_type": "code",
   "execution_count": 151,
   "metadata": {
    "ExecuteTime": {
     "end_time": "2020-02-25T09:27:07.471565Z",
     "start_time": "2020-02-25T09:27:07.465497Z"
    }
   },
   "outputs": [],
   "source": [
    "def train_DT(orig_dataset, features, target, depth, max_depth):\n",
    "    n = Node(orig_dataset.copy(), features, target)\n",
    "    \n",
    "    n.find_best_split(depth, max_depth)\n",
    "    \n",
    "    if n.split_feat is None:\n",
    "        return n\n",
    "    \n",
    "    n.left = train_DT(n.left.data, features, target, depth+1, max_depth) \n",
    "    n.right = train_DT(n.right.data, features, target, depth+1, max_depth) \n",
    "    \n",
    "    return n"
   ]
  },
  {
   "cell_type": "code",
   "execution_count": 152,
   "metadata": {
    "ExecuteTime": {
     "end_time": "2020-02-25T09:27:07.772341Z",
     "start_time": "2020-02-25T09:27:07.766322Z"
    }
   },
   "outputs": [],
   "source": [
    "def traverse_DT(node, index = 0, is_left=False, is_root=False): \n",
    "   \n",
    "    if node is None:\n",
    "        return\n",
    "    \n",
    "    if node.is_leaf:\n",
    "        print('Leaf')\n",
    "        return\n",
    "        \n",
    "    elif is_root:\n",
    "        print(index, ' Root ', node.split_feat, node.split_value)\n",
    "    \n",
    "    elif is_left:\n",
    "        print(index, ' Left ', node.split_feat, node.split_value)\n",
    "        \n",
    "    else:\n",
    "        print(index, ' Right ', node.split_feat, node.split_value)\n",
    "        \n",
    "    left = node.left\n",
    "    right = node.right\n",
    "    \n",
    "    if node.left is None:\n",
    "        return\n",
    "    if node.right is None:\n",
    "        return\n",
    "    \n",
    "    traverse_DT(node.left, index+1, is_left=True)\n",
    "    traverse_DT(node.right, index+1)"
   ]
  },
  {
   "cell_type": "code",
   "execution_count": 153,
   "metadata": {
    "ExecuteTime": {
     "end_time": "2020-02-25T09:27:08.047806Z",
     "start_time": "2020-02-25T09:27:08.039767Z"
    }
   },
   "outputs": [],
   "source": [
    "def predict(row, node):\n",
    "    if node.is_leaf:\n",
    "        #print(stats.mode(node.data[node.target].values)[0][0])\n",
    "        return stats.mode(node.data[node.target].values)[0][0]\n",
    "        \n",
    "    feat = node.split_feat\n",
    "    val = node.split_value\n",
    "\n",
    "    if row[feat] <= val:\n",
    "        return predict(row, node.left)\n",
    "    \n",
    "    return predict(row, node.right)\n",
    "\n",
    "def predict_Decision_Tree(node_decision_tree, data):\n",
    "    y_pred = []\n",
    "    for index, row in data.iterrows():\n",
    "        y = predict(row, node_decision_tree) \n",
    "        if y >= 0.5:\n",
    "            y = 1\n",
    "        else:\n",
    "            y = 0\n",
    "            \n",
    "        y_pred.append(y)\n",
    "    return y_pred "
   ]
  },
  {
   "cell_type": "markdown",
   "metadata": {},
   "source": [
    "## Execution"
   ]
  },
  {
   "cell_type": "markdown",
   "metadata": {},
   "source": [
    "### Breast Cancer Data"
   ]
  },
  {
   "cell_type": "code",
   "execution_count": 183,
   "metadata": {
    "ExecuteTime": {
     "end_time": "2020-02-25T09:33:58.646532Z",
     "start_time": "2020-02-25T09:33:54.393904Z"
    },
    "scrolled": true
   },
   "outputs": [],
   "source": [
    "node_decision_tree_BC = train_DT(df_breast_cancer, df_breast_cancer.drop('target', axis=1).columns, 'target', depth = 1, max_depth = 4)"
   ]
  },
  {
   "cell_type": "code",
   "execution_count": 184,
   "metadata": {
    "ExecuteTime": {
     "end_time": "2020-02-25T09:33:58.802073Z",
     "start_time": "2020-02-25T09:33:58.798061Z"
    }
   },
   "outputs": [],
   "source": [
    "#traverse_DT(node_decision_tree_BC, is_root=True)"
   ]
  },
  {
   "cell_type": "code",
   "execution_count": 185,
   "metadata": {
    "ExecuteTime": {
     "end_time": "2020-02-25T09:33:59.164053Z",
     "start_time": "2020-02-25T09:33:58.953601Z"
    }
   },
   "outputs": [],
   "source": [
    "y_pred = predict_Decision_Tree(node_decision_tree_BC, df_breast_cancer)"
   ]
  },
  {
   "cell_type": "code",
   "execution_count": 186,
   "metadata": {
    "ExecuteTime": {
     "end_time": "2020-02-25T09:33:59.293381Z",
     "start_time": "2020-02-25T09:33:59.282411Z"
    },
    "scrolled": true
   },
   "outputs": [
    {
     "name": "stdout",
     "output_type": "stream",
     "text": [
      "Accuracy 0.961335676625659\n",
      "Confusion Matrix\n",
      "  [[193  19]\n",
      " [  3 354]]\n"
     ]
    }
   ],
   "source": [
    "print('Accuracy', accuracy_score(df_breast_cancer['target'], y_pred))\n",
    "print('Confusion Matrix\\n ', confusion_matrix(df_breast_cancer['target'], y_pred))"
   ]
  },
  {
   "cell_type": "markdown",
   "metadata": {},
   "source": [
    "### Wine Data"
   ]
  },
  {
   "cell_type": "code",
   "execution_count": 158,
   "metadata": {
    "ExecuteTime": {
     "end_time": "2020-02-25T09:27:22.729790Z",
     "start_time": "2020-02-25T09:27:21.535448Z"
    }
   },
   "outputs": [],
   "source": [
    "node_decision_tree_W = train_DT(df_wine, df_wine.drop('target', axis=1).columns, 'target', depth = 1, max_depth = 4)"
   ]
  },
  {
   "cell_type": "code",
   "execution_count": 159,
   "metadata": {
    "ExecuteTime": {
     "end_time": "2020-02-25T09:27:22.882036Z",
     "start_time": "2020-02-25T09:27:22.878661Z"
    }
   },
   "outputs": [],
   "source": [
    "#traverse_DT(node_decision_tree_W, is_root=True)"
   ]
  },
  {
   "cell_type": "code",
   "execution_count": 160,
   "metadata": {
    "ExecuteTime": {
     "end_time": "2020-02-25T09:27:23.089803Z",
     "start_time": "2020-02-25T09:27:23.034437Z"
    }
   },
   "outputs": [],
   "source": [
    "y_pred = predict_Decision_Tree(node_decision_tree_W, df_wine)"
   ]
  },
  {
   "cell_type": "code",
   "execution_count": 161,
   "metadata": {
    "ExecuteTime": {
     "end_time": "2020-02-25T09:27:23.227999Z",
     "start_time": "2020-02-25T09:27:23.218925Z"
    },
    "scrolled": false
   },
   "outputs": [
    {
     "name": "stdout",
     "output_type": "stream",
     "text": [
      "Accuracy 0.9923076923076923\n",
      "Confusion Matrix\n",
      "  [[58  1]\n",
      " [ 0 71]]\n"
     ]
    }
   ],
   "source": [
    "print('Accuracy', accuracy_score(df_wine['target'], y_pred))\n",
    "print('Confusion Matrix\\n ', confusion_matrix(df_wine['target'], y_pred))"
   ]
  },
  {
   "cell_type": "markdown",
   "metadata": {},
   "source": [
    "## Random Forest Classifier "
   ]
  },
  {
   "cell_type": "code",
   "execution_count": 162,
   "metadata": {
    "ExecuteTime": {
     "end_time": "2020-02-25T09:27:35.488473Z",
     "start_time": "2020-02-25T09:27:23.370333Z"
    }
   },
   "outputs": [],
   "source": [
    "node_decision_tree_BC = train_DT(df_breast_cancer, df_breast_cancer.drop('target', axis=1).columns, 'target', depth = 1, max_depth = 7)\n",
    "y_pred = predict_Decision_Tree(node_decision_tree_BC, df_breast_cancer)"
   ]
  },
  {
   "cell_type": "code",
   "execution_count": 207,
   "metadata": {
    "ExecuteTime": {
     "end_time": "2020-02-25T09:39:04.129096Z",
     "start_time": "2020-02-25T09:39:04.122062Z"
    }
   },
   "outputs": [],
   "source": [
    "import random\n",
    "def RandomForestClassifier(orig_dataset, features, target, max_depth=4, n_estimators=100, feature_sampling = 0.8):\n",
    "    dataset = orig_dataset.copy()\n",
    "    bagging_y_pred = []\n",
    "    for i in range(n_estimators):\n",
    "        ## Feature Samples\n",
    "        #print('Decision Tree ', i+1)\n",
    "        \n",
    "        rand_features = random.sample(list(features), int(feature_sampling*len(list(features))))\n",
    "        \n",
    "        bagging_dataset = dataset[rand_features].copy()\n",
    "        bagging_dataset[target] = dataset[target]\n",
    "        \n",
    "        sample_dataset = bagging_dataset.sample(n=len(bagging_dataset), replace=True)\n",
    "        \n",
    "        node_decision_tree_BC = train_DT(sample_dataset, sample_dataset.drop('target', axis=1).columns, \n",
    "                                         'target', depth = 1, max_depth = max_depth)\n",
    "        \n",
    "        y_pred = predict_Decision_Tree(node_decision_tree_BC, bagging_dataset)\n",
    "        \n",
    "        bagging_y_pred.append(y_pred)\n",
    "    \n",
    "    return bagging_y_pred"
   ]
  },
  {
   "cell_type": "code",
   "execution_count": 208,
   "metadata": {
    "ExecuteTime": {
     "end_time": "2020-02-25T09:44:22.412169Z",
     "start_time": "2020-02-25T09:39:04.352037Z"
    }
   },
   "outputs": [],
   "source": [
    "bagging_y = RandomForestClassifier(df_breast_cancer, df_breast_cancer.drop('target', axis=1).columns, 'target')"
   ]
  },
  {
   "cell_type": "code",
   "execution_count": 209,
   "metadata": {
    "ExecuteTime": {
     "end_time": "2020-02-25T09:44:23.179058Z",
     "start_time": "2020-02-25T09:44:22.658445Z"
    }
   },
   "outputs": [],
   "source": [
    "y_pred = pd.DataFrame(bagging_y).T.mode(axis=1)[0] "
   ]
  },
  {
   "cell_type": "code",
   "execution_count": 210,
   "metadata": {
    "ExecuteTime": {
     "end_time": "2020-02-25T09:44:23.540745Z",
     "start_time": "2020-02-25T09:44:23.521694Z"
    }
   },
   "outputs": [
    {
     "name": "stdout",
     "output_type": "stream",
     "text": [
      "Accuracy 0.9824253075571178\n",
      "Confusion Matrix\n",
      "  [[205   7]\n",
      " [  3 354]]\n"
     ]
    }
   ],
   "source": [
    "print('Accuracy', accuracy_score(df_breast_cancer['target'], y_pred))\n",
    "print('Confusion Matrix\\n ', confusion_matrix(df_breast_cancer['target'], y_pred))"
   ]
  }
 ],
 "metadata": {
  "kernelspec": {
   "display_name": "Python 3",
   "language": "python",
   "name": "python3"
  },
  "language_info": {
   "codemirror_mode": {
    "name": "ipython",
    "version": 3
   },
   "file_extension": ".py",
   "mimetype": "text/x-python",
   "name": "python",
   "nbconvert_exporter": "python",
   "pygments_lexer": "ipython3",
   "version": "3.6.5"
  },
  "toc": {
   "base_numbering": 1,
   "nav_menu": {},
   "number_sections": true,
   "sideBar": true,
   "skip_h1_title": false,
   "title_cell": "Table of Contents",
   "title_sidebar": "Contents",
   "toc_cell": false,
   "toc_position": {},
   "toc_section_display": true,
   "toc_window_display": true
  },
  "varInspector": {
   "cols": {
    "lenName": 16,
    "lenType": 16,
    "lenVar": 40
   },
   "kernels_config": {
    "python": {
     "delete_cmd_postfix": "",
     "delete_cmd_prefix": "del ",
     "library": "var_list.py",
     "varRefreshCmd": "print(var_dic_list())"
    },
    "r": {
     "delete_cmd_postfix": ") ",
     "delete_cmd_prefix": "rm(",
     "library": "var_list.r",
     "varRefreshCmd": "cat(var_dic_list()) "
    }
   },
   "types_to_exclude": [
    "module",
    "function",
    "builtin_function_or_method",
    "instance",
    "_Feature"
   ],
   "window_display": false
  }
 },
 "nbformat": 4,
 "nbformat_minor": 2
}
