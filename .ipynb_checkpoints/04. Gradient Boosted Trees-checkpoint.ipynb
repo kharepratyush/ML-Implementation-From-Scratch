{
 "cells": [
  {
   "cell_type": "markdown",
   "metadata": {},
   "source": [
    "## Gradient Boosted Tree -  Regression"
   ]
  },
  {
   "cell_type": "markdown",
   "metadata": {},
   "source": [
    "### Logic"
   ]
  },
  {
   "cell_type": "markdown",
   "metadata": {
    "ExecuteTime": {
     "end_time": "2020-02-25T14:48:08.012350Z",
     "start_time": "2020-02-25T14:48:08.007339Z"
    }
   },
   "source": [
    "In boosting, instead of growing K trees in parallel, we iteratively optimize the values of y^i by adding a new function of regression tree in each round.\n",
    "\n",
    "$y^{(0)}_i=f^{(0)}(x_i)=0$\n",
    "\n",
    "$y^{(1)}_i=f^{(0)}(x_i)+f^{(1)}(x_i)=y^{(0)}_i+f^{(1)}(x_i)$\n",
    "\n",
    "$y^{(2)}_i=f^{(0)}(x_i)+f^{(1)}(x_i)+f^{(2)}(x_i)=y^{(2)}_i+f^{(2)}(x_i)$\n",
    "\n",
    "$y^{(t)}_i=f^{(0)}(x_i)+f^{(1)}(x_i)+...+f^{(t)}(x_i)=y^{(t−1)}_i+f^{(t)}(x_i)$"
   ]
  },
  {
   "cell_type": "markdown",
   "metadata": {
    "ExecuteTime": {
     "end_time": "2020-02-25T14:55:38.579937Z",
     "start_time": "2020-02-25T14:55:38.575927Z"
    }
   },
   "source": [
    "* Pseudo-Residuals :\n",
    "\n",
    "Pseudo-residuals are calculated like this – you calculate the gradient of your loss function with respect to your predicted values, and you multiply them by -1. You then use these values as target inputs to a weak learner."
   ]
  },
  {
   "cell_type": "code",
   "execution_count": 7,
   "metadata": {
    "ExecuteTime": {
     "end_time": "2020-02-25T14:58:33.339725Z",
     "start_time": "2020-02-25T14:58:33.334716Z"
    }
   },
   "outputs": [],
   "source": [
    "import pandas as pd\n",
    "import seaborn as sns\n",
    "from numpy.linalg import inv\n",
    "import matplotlib.pyplot as plt\n",
    "from sklearn.metrics import r2_score\n",
    "from sklearn.metrics import mean_squared_error\n",
    "from sklearn.metrics import mean_absolute_error\n",
    "import numpy as np\n",
    "from sklearn.datasets import load_boston\n",
    "from sklearn.linear_model import LinearRegression\n",
    "import random\n",
    "import statistics \n",
    "from sklearn.preprocessing import StandardScaler\n",
    "from sklearn.tree import DecisionTreeRegressor\n",
    "sns.set()"
   ]
  },
  {
   "cell_type": "code",
   "execution_count": 49,
   "metadata": {
    "ExecuteTime": {
     "end_time": "2020-02-25T15:13:37.359331Z",
     "start_time": "2020-02-25T15:13:37.354349Z"
    }
   },
   "outputs": [],
   "source": [
    "def weak_regressor(x, y, max_depth = 1):\n",
    "    reg = DecisionTreeRegressor(max_depth = max_depth)\n",
    "    reg.fit(x, y)\n",
    "    return reg\n",
    "    \n",
    "def cost_calculate(y_true, y_pred):\n",
    "    # Returns MSE Cost\n",
    "    return np.sqrt(np.sum(np.square(y_true - y_pred)))\n",
    "\n",
    "def cost_gradient(y_true, y_pred):\n",
    "    return -(y_true-y_pred)"
   ]
  },
  {
   "cell_type": "code",
   "execution_count": 69,
   "metadata": {
    "ExecuteTime": {
     "end_time": "2020-02-25T15:21:06.268337Z",
     "start_time": "2020-02-25T15:21:06.262322Z"
    }
   },
   "outputs": [],
   "source": [
    "def gradient_boosted_tree(orig_dataset, features, target, n_iter = 100, learning_rate = 1, max_depth_weak_regressor = 3):\n",
    "    dataset = orig_dataset.copy()\n",
    "    y = dataset[target]\n",
    "    \n",
    "    y_pred = [0] * len(y)\n",
    "    cost = cost_calculate(y, y_pred)\n",
    "    \n",
    "    cost_prev = np.inf\n",
    "    for i in range(int(n_iter)):\n",
    "        \n",
    "        residual = -cost_gradient(y, y_pred)\n",
    "        \n",
    "        weak_reg = weak_regressor(dataset[features], residual, max_depth = max_depth_weak_regressor)\n",
    "        predictions = weak_reg.predict(dataset[features])\n",
    "        y_pred = y_pred + (learning_rate * predictions)\n",
    "        \n",
    "        cost = cost_calculate(y, y_pred)\n",
    "        \n",
    "        if cost_prev - cost < 1e-6:\n",
    "            break\n",
    "            \n",
    "    return(y_pred)"
   ]
  },
  {
   "cell_type": "markdown",
   "metadata": {},
   "source": [
    "### Low Dimension Data"
   ]
  },
  {
   "cell_type": "code",
   "execution_count": 70,
   "metadata": {
    "ExecuteTime": {
     "end_time": "2020-02-25T15:21:07.012068Z",
     "start_time": "2020-02-25T15:21:07.002001Z"
    }
   },
   "outputs": [],
   "source": [
    "dataset = pd.read_csv('01. Linear Regression Dataset.csv')\n",
    "dataset.dropna(inplace=True)"
   ]
  },
  {
   "cell_type": "code",
   "execution_count": 71,
   "metadata": {
    "ExecuteTime": {
     "end_time": "2020-02-25T15:21:07.673810Z",
     "start_time": "2020-02-25T15:21:07.247675Z"
    }
   },
   "outputs": [],
   "source": [
    "y_pred = gradient_boosted_tree(dataset, ['x'], 'y')\n",
    "dataset['y_pred'] = y_pred"
   ]
  },
  {
   "cell_type": "code",
   "execution_count": 72,
   "metadata": {
    "ExecuteTime": {
     "end_time": "2020-02-25T15:21:07.734932Z",
     "start_time": "2020-02-25T15:21:07.726919Z"
    }
   },
   "outputs": [
    {
     "name": "stdout",
     "output_type": "stream",
     "text": [
      "R2 Score:  0.9921109597707204\n",
      "MSE:  6.67518748013377\n",
      "RMSE:  2.583638419000184\n",
      "MAE:  2.0452121382755233\n"
     ]
    }
   ],
   "source": [
    "print('R2 Score: ', r2_score(dataset['y'], y_pred))\n",
    "print('MSE: ', mean_squared_error(dataset['y'], y_pred))\n",
    "print('RMSE: ', np.sqrt(mean_squared_error(dataset['y'], y_pred)))\n",
    "print('MAE: ', mean_absolute_error(dataset['y'], y_pred))"
   ]
  },
  {
   "cell_type": "code",
   "execution_count": 73,
   "metadata": {
    "ExecuteTime": {
     "end_time": "2020-02-25T15:21:11.872019Z",
     "start_time": "2020-02-25T15:21:08.665690Z"
    }
   },
   "outputs": [
    {
     "data": {
      "image/png": "[encoded data removed]",
      "text/plain": [
       "<Figure size 432x288 with 1 Axes>"
      ]
     },
     "metadata": {},
     "output_type": "display_data"
    }
   ],
   "source": [
    "fig, ax = plt.subplots()\n",
    "sns.scatterplot(x = 'x', y='y', data=dataset, ax=ax)\n",
    "sns.lineplot(x = 'x', y='y_pred', data=dataset, ax=ax, color='red')\n",
    "plt.show()"
   ]
  },
  {
   "cell_type": "markdown",
   "metadata": {},
   "source": [
    "### Boston Dataset"
   ]
  },
  {
   "cell_type": "code",
   "execution_count": 74,
   "metadata": {
    "ExecuteTime": {
     "end_time": "2020-02-25T15:21:11.962488Z",
     "start_time": "2020-02-25T15:21:11.929169Z"
    }
   },
   "outputs": [],
   "source": [
    "boston_dataset = pd.DataFrame(load_boston()['data'], columns = load_boston()['feature_names'])\n",
    "boston_dataset['target'] = load_boston()['target']"
   ]
  },
  {
   "cell_type": "code",
   "execution_count": 75,
   "metadata": {
    "ExecuteTime": {
     "end_time": "2020-02-25T15:21:12.611325Z",
     "start_time": "2020-02-25T15:21:12.030440Z"
    }
   },
   "outputs": [],
   "source": [
    "y_pred = gradient_boosted_tree(boston_dataset, boston_dataset.drop(columns = 'target').columns, 'target')\n",
    "boston_dataset['y_pred'] = y_pred"
   ]
  },
  {
   "cell_type": "code",
   "execution_count": 76,
   "metadata": {
    "ExecuteTime": {
     "end_time": "2020-02-25T15:21:12.668136Z",
     "start_time": "2020-02-25T15:21:12.660117Z"
    }
   },
   "outputs": [
    {
     "name": "stdout",
     "output_type": "stream",
     "text": [
      "R2 Score:  0.9997912735433869\n",
      "MSE:  0.017620594825328142\n",
      "RMSE:  0.13274258858907395\n",
      "MAE:  0.09655273059998104\n"
     ]
    }
   ],
   "source": [
    "print('R2 Score: ', r2_score(boston_dataset['target'], y_pred))\n",
    "print('MSE: ', mean_squared_error(boston_dataset['target'], y_pred))\n",
    "print('RMSE: ', np.sqrt(mean_squared_error(boston_dataset['target'], y_pred)))\n",
    "print('MAE: ', mean_absolute_error(boston_dataset['target'], y_pred))"
   ]
  }
 ],
 "metadata": {
  "kernelspec": {
   "display_name": "Python 3",
   "language": "python",
   "name": "python3"
  },
  "language_info": {
   "codemirror_mode": {
    "name": "ipython",
    "version": 3
   },
   "file_extension": ".py",
   "mimetype": "text/x-python",
   "name": "python",
   "nbconvert_exporter": "python",
   "pygments_lexer": "ipython3",
   "version": "3.6.5"
  },
  "toc": {
   "base_numbering": 1,
   "nav_menu": {},
   "number_sections": true,
   "sideBar": true,
   "skip_h1_title": false,
   "title_cell": "Table of Contents",
   "title_sidebar": "Contents",
   "toc_cell": false,
   "toc_position": {},
   "toc_section_display": true,
   "toc_window_display": true
  },
  "varInspector": {
   "cols": {
    "lenName": 16,
    "lenType": 16,
    "lenVar": 40
   },
   "kernels_config": {
    "python": {
     "delete_cmd_postfix": "",
     "delete_cmd_prefix": "del ",
     "library": "var_list.py",
     "varRefreshCmd": "print(var_dic_list())"
    },
    "r": {
     "delete_cmd_postfix": ") ",
     "delete_cmd_prefix": "rm(",
     "library": "var_list.r",
     "varRefreshCmd": "cat(var_dic_list()) "
    }
   },
   "types_to_exclude": [
    "module",
    "function",
    "builtin_function_or_method",
    "instance",
    "_Feature"
   ],
   "window_display": false
  }
 },
 "nbformat": 4,
 "nbformat_minor": 2
}
