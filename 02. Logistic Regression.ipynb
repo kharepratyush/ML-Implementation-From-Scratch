{
 "cells": [
  {
   "cell_type": "markdown",
   "metadata": {},
   "source": [
    "## Logistic Regression"
   ]
  },
  {
   "cell_type": "markdown",
   "metadata": {},
   "source": [
    "### Logistic Regression - Manual Implementation"
   ]
  },
  {
   "cell_type": "markdown",
   "metadata": {},
   "source": [
    "<img src = \"https://ml-cheatsheet.readthedocs.io/en/latest/_images/logistic_cost_function_vectorized.png\"></img>"
   ]
  },
  {
   "cell_type": "code",
   "execution_count": 1,
   "metadata": {
    "ExecuteTime": {
     "end_time": "2020-02-24T12:18:56.815934Z",
     "start_time": "2020-02-24T12:18:50.609776Z"
    }
   },
   "outputs": [],
   "source": [
    "from sklearn.datasets import load_breast_cancer\n",
    "import numpy as np\n",
    "from sklearn.preprocessing import StandardScaler\n",
    "from sklearn.metrics import accuracy_score\n",
    "from sklearn.metrics import confusion_matrix\n",
    "import pandas as pd"
   ]
  },
  {
   "cell_type": "code",
   "execution_count": 2,
   "metadata": {
    "ExecuteTime": {
     "end_time": "2020-02-24T12:18:56.896950Z",
     "start_time": "2020-02-24T12:18:56.818586Z"
    }
   },
   "outputs": [],
   "source": [
    "df_breast_cancer = pd.DataFrame(load_breast_cancer()['data'], columns= load_breast_cancer()['feature_names'])\n",
    "scaler = StandardScaler()\n",
    "df_breast_cancer = pd.DataFrame(scaler.fit_transform(df_breast_cancer), columns = df_breast_cancer.columns)\n",
    "df_breast_cancer['target'] = load_breast_cancer()['target']"
   ]
  },
  {
   "cell_type": "code",
   "execution_count": 3,
   "metadata": {
    "ExecuteTime": {
     "end_time": "2020-02-24T12:18:56.906817Z",
     "start_time": "2020-02-24T12:18:56.899798Z"
    }
   },
   "outputs": [],
   "source": [
    "def sigmoid(z):\n",
    "    return 1.0 / (1 + np.exp(-z))\n",
    "\n",
    "def predict(features, weights):\n",
    "    z = features.dot(weights)\n",
    "    return sigmoid(z)\n",
    "\n",
    "def cost_calculate(features, target, weights):\n",
    "    predictions = predict(features, weights)\n",
    "    cost = (-target.dot(np.log(predictions)) - ((1-target).dot(np.log(1-predictions))))\n",
    "    return cost\n",
    "\n",
    "def classify(predictions):\n",
    "    return predictions.apply(lambda x: 1 if x>=0.5 else 0)"
   ]
  },
  {
   "cell_type": "code",
   "execution_count": 4,
   "metadata": {
    "ExecuteTime": {
     "end_time": "2020-02-24T12:18:56.934908Z",
     "start_time": "2020-02-24T12:18:56.910828Z"
    }
   },
   "outputs": [],
   "source": [
    "def logistic_regression_GD(orig_dataset, features, target, n_iter = 1e4, lr = 1e-4, tolerance = 1e-6):\n",
    "    \n",
    "    dataset = orig_dataset.copy()\n",
    "    \n",
    "    feat = ['coef']\n",
    "    dataset['coef'] = 1\n",
    "    feat.extend(features)\n",
    "    feat = features\n",
    "    \n",
    "    #print(features)\n",
    "    H = dataset[features]\n",
    "    y = dataset[target]\n",
    "    \n",
    "    weights = np.random.randn(len(features))\n",
    "    \n",
    "    cost_prev = np.inf\n",
    "    for i in range(int(n_iter)):\n",
    "        \n",
    "        predictions = predict(H, weights)\n",
    "        cost_ = cost_calculate(H, y, weights)\n",
    "        \n",
    "        if cost_ > cost_prev:\n",
    "            print('Reducing Learning Rate')\n",
    "            lr = lr/10\n",
    "    \n",
    "        #print(cost_)\n",
    "        gradient = (H.T.dot(predictions - y))\n",
    "        \n",
    "        if abs(cost_ - cost_prev) < tolerance:\n",
    "            break\n",
    "            \n",
    "        cost_prev = cost_ \n",
    "        weights -= lr * gradient\n",
    "\n",
    "    predictions = predict(H, weights)\n",
    "    y_pred = classify(predictions).values\n",
    "    \n",
    "    print('Accuracy', accuracy_score(y, y_pred))\n",
    "    print('Confusion Matrix\\n ', confusion_matrix(y, y_pred))"
   ]
  },
  {
   "cell_type": "code",
   "execution_count": 5,
   "metadata": {
    "ExecuteTime": {
     "end_time": "2020-02-24T12:20:03.821778Z",
     "start_time": "2020-02-24T12:18:56.940346Z"
    }
   },
   "outputs": [
    {
     "name": "stdout",
     "output_type": "stream",
     "text": [
      "Accuracy 0.9894551845342706\n",
      "Confusion Matrix\n",
      "  [[207   5]\n",
      " [  1 356]]\n",
      "Wall time: 1min 6s\n"
     ]
    }
   ],
   "source": [
    "%%time\n",
    "logistic_regression_GD(df_breast_cancer, df_breast_cancer.drop('target', axis=1).columns, 'target')"
   ]
  },
  {
   "cell_type": "markdown",
   "metadata": {},
   "source": [
    "### Logistic Regression - Sklearn Implementation"
   ]
  },
  {
   "cell_type": "code",
   "execution_count": 6,
   "metadata": {
    "ExecuteTime": {
     "end_time": "2020-02-24T12:20:04.069989Z",
     "start_time": "2020-02-24T12:20:03.829802Z"
    }
   },
   "outputs": [
    {
     "name": "stdout",
     "output_type": "stream",
     "text": [
      "Accuracy 0.9876977152899824\n",
      "Confusion Matrix\n",
      "  [[207   5]\n",
      " [  2 355]]\n",
      "Wall time: 224 ms\n"
     ]
    }
   ],
   "source": [
    "%%time\n",
    "\n",
    "from sklearn.linear_model import LogisticRegression\n",
    "clf = LogisticRegression(random_state=0).fit(df_breast_cancer.drop('target', axis=1), df_breast_cancer['target'])\n",
    "\n",
    "y_pred_sklearn = clf.predict(df_breast_cancer.drop('target', axis=1))\n",
    "\n",
    "print('Accuracy', accuracy_score(df_breast_cancer['target'], y_pred_sklearn))\n",
    "print('Confusion Matrix\\n ', confusion_matrix(df_breast_cancer['target'], y_pred_sklearn))"
   ]
  },
  {
   "cell_type": "markdown",
   "metadata": {},
   "source": [
    "## Next Action Items:\n",
    "\n",
    "* Implementation of Ridge & Lasso Regularization"
   ]
  }
 ],
 "metadata": {
  "kernelspec": {
   "display_name": "Python 3",
   "language": "python",
   "name": "python3"
  },
  "language_info": {
   "codemirror_mode": {
    "name": "ipython",
    "version": 3
   },
   "file_extension": ".py",
   "mimetype": "text/x-python",
   "name": "python",
   "nbconvert_exporter": "python",
   "pygments_lexer": "ipython3",
   "version": "3.6.5"
  },
  "toc": {
   "base_numbering": 1,
   "nav_menu": {},
   "number_sections": true,
   "sideBar": true,
   "skip_h1_title": false,
   "title_cell": "Table of Contents",
   "title_sidebar": "Contents",
   "toc_cell": false,
   "toc_position": {},
   "toc_section_display": true,
   "toc_window_display": true
  },
  "varInspector": {
   "cols": {
    "lenName": 16,
    "lenType": 16,
    "lenVar": 40
   },
   "kernels_config": {
    "python": {
     "delete_cmd_postfix": "",
     "delete_cmd_prefix": "del ",
     "library": "var_list.py",
     "varRefreshCmd": "print(var_dic_list())"
    },
    "r": {
     "delete_cmd_postfix": ") ",
     "delete_cmd_prefix": "rm(",
     "library": "var_list.r",
     "varRefreshCmd": "cat(var_dic_list()) "
    }
   },
   "types_to_exclude": [
    "module",
    "function",
    "builtin_function_or_method",
    "instance",
    "_Feature"
   ],
   "window_display": false
  }
 },
 "nbformat": 4,
 "nbformat_minor": 2
}
